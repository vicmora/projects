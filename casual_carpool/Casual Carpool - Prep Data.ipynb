{
 "cells": [
  {
   "cell_type": "markdown",
   "metadata": {},
   "source": [
    "INTRO"
   ]
  },
  {
   "cell_type": "code",
   "execution_count": 2,
   "metadata": {
    "collapsed": false
   },
   "outputs": [],
   "source": [
    "%matplotlib inline\n",
    "import pandas as pd\n",
    "import seaborn as sns\n",
    "import matplotlib.pyplot as plt\n",
    "from matplotlib.pylab import rcParams\n",
    "rcParams['figure.figsize'] = [15, 6]\n",
    "pd.set_option('display.float_format', lambda x: '%.2f' % x)"
   ]
  },
  {
   "cell_type": "markdown",
   "metadata": {},
   "source": [
    "LOAD DATA"
   ]
  },
  {
   "cell_type": "code",
   "execution_count": 3,
   "metadata": {
    "collapsed": false
   },
   "outputs": [
    {
     "data": {
      "text/html": [
       "<div>\n",
       "<table border=\"1\" class=\"dataframe\">\n",
       "  <thead>\n",
       "    <tr style=\"text-align: right;\">\n",
       "      <th></th>\n",
       "      <th>Date</th>\n",
       "      <th>Day of Week</th>\n",
       "      <th># in Line</th>\n",
       "      <th>Line-up Time</th>\n",
       "      <th>Pick-up Time</th>\n",
       "      <th>Notes</th>\n",
       "    </tr>\n",
       "  </thead>\n",
       "  <tbody>\n",
       "    <tr>\n",
       "      <th>0</th>\n",
       "      <td>6/8/2016</td>\n",
       "      <td>Wednesday</td>\n",
       "      <td>19</td>\n",
       "      <td>7:50:00 AM</td>\n",
       "      <td>8:05:00 AM</td>\n",
       "      <td>NaN</td>\n",
       "    </tr>\n",
       "    <tr>\n",
       "      <th>1</th>\n",
       "      <td>6/9/2016</td>\n",
       "      <td>Thursday</td>\n",
       "      <td>4</td>\n",
       "      <td>7:26:00 AM</td>\n",
       "      <td>7:29:00 AM</td>\n",
       "      <td>NaN</td>\n",
       "    </tr>\n",
       "    <tr>\n",
       "      <th>2</th>\n",
       "      <td>6/9/2016</td>\n",
       "      <td>Thursday</td>\n",
       "      <td>19</td>\n",
       "      <td>8:01:00 AM</td>\n",
       "      <td>8:21:00 AM</td>\n",
       "      <td>Bus arrived as I got in line</td>\n",
       "    </tr>\n",
       "    <tr>\n",
       "      <th>3</th>\n",
       "      <td>6/10/2016</td>\n",
       "      <td>Friday</td>\n",
       "      <td>9</td>\n",
       "      <td>7:30:00 AM</td>\n",
       "      <td>7:38:00 AM</td>\n",
       "      <td>NaN</td>\n",
       "    </tr>\n",
       "    <tr>\n",
       "      <th>4</th>\n",
       "      <td>6/10/2016</td>\n",
       "      <td>Friday</td>\n",
       "      <td>21</td>\n",
       "      <td>7:50:00 AM</td>\n",
       "      <td>8:00:00 AM</td>\n",
       "      <td>Took the bus after 10 minutes</td>\n",
       "    </tr>\n",
       "  </tbody>\n",
       "</table>\n",
       "</div>"
      ],
      "text/plain": [
       "        Date Day of Week  # in Line Line-up Time Pick-up Time  \\\n",
       "0   6/8/2016   Wednesday         19   7:50:00 AM   8:05:00 AM   \n",
       "1   6/9/2016    Thursday          4   7:26:00 AM   7:29:00 AM   \n",
       "2   6/9/2016    Thursday         19   8:01:00 AM   8:21:00 AM   \n",
       "3  6/10/2016      Friday          9   7:30:00 AM   7:38:00 AM   \n",
       "4  6/10/2016      Friday         21   7:50:00 AM   8:00:00 AM   \n",
       "\n",
       "                            Notes  \n",
       "0                             NaN  \n",
       "1                             NaN  \n",
       "2    Bus arrived as I got in line  \n",
       "3                             NaN  \n",
       "4  Took the bus after 10 minutes   "
      ]
     },
     "execution_count": 3,
     "metadata": {},
     "output_type": "execute_result"
    }
   ],
   "source": [
    "data = pd.read_csv('data/raw.csv', encoding='utf-8')\n",
    "data.head()"
   ]
  },
  {
   "cell_type": "markdown",
   "metadata": {},
   "source": [
    "add timestamp columns"
   ]
  },
  {
   "cell_type": "code",
   "execution_count": 4,
   "metadata": {
    "collapsed": true
   },
   "outputs": [],
   "source": [
    "data['timestamp_arrive'] = pd.to_datetime(data['Date']+' '+data['Line-up Time'])\n",
    "data['timestamp_depart'] = pd.to_datetime(data['Date']+' '+data['Pick-up Time'])"
   ]
  },
  {
   "cell_type": "markdown",
   "metadata": {},
   "source": [
    "CLEAN-UP columns"
   ]
  },
  {
   "cell_type": "code",
   "execution_count": 5,
   "metadata": {
    "collapsed": true
   },
   "outputs": [],
   "source": [
    "data = data.rename(columns={'Day of Week':'weekday',\n",
    "                            '# in Line':'line_count',\n",
    "                            'Notes':'notes'})"
   ]
  },
  {
   "cell_type": "code",
   "execution_count": 6,
   "metadata": {
    "collapsed": false
   },
   "outputs": [],
   "source": [
    "data = data.drop(['Date', 'Line-up Time', 'Pick-up Time'], axis=1)"
   ]
  },
  {
   "cell_type": "code",
   "execution_count": 7,
   "metadata": {
    "collapsed": false
   },
   "outputs": [
    {
     "data": {
      "text/html": [
       "<div>\n",
       "<table border=\"1\" class=\"dataframe\">\n",
       "  <thead>\n",
       "    <tr style=\"text-align: right;\">\n",
       "      <th></th>\n",
       "      <th>weekday</th>\n",
       "      <th>line_count</th>\n",
       "      <th>notes</th>\n",
       "      <th>timestamp_arrive</th>\n",
       "      <th>timestamp_depart</th>\n",
       "    </tr>\n",
       "  </thead>\n",
       "  <tbody>\n",
       "    <tr>\n",
       "      <th>0</th>\n",
       "      <td>Wednesday</td>\n",
       "      <td>19</td>\n",
       "      <td>NaN</td>\n",
       "      <td>2016-06-08 07:50:00</td>\n",
       "      <td>2016-06-08 08:05:00</td>\n",
       "    </tr>\n",
       "    <tr>\n",
       "      <th>1</th>\n",
       "      <td>Thursday</td>\n",
       "      <td>4</td>\n",
       "      <td>NaN</td>\n",
       "      <td>2016-06-09 07:26:00</td>\n",
       "      <td>2016-06-09 07:29:00</td>\n",
       "    </tr>\n",
       "    <tr>\n",
       "      <th>2</th>\n",
       "      <td>Thursday</td>\n",
       "      <td>19</td>\n",
       "      <td>Bus arrived as I got in line</td>\n",
       "      <td>2016-06-09 08:01:00</td>\n",
       "      <td>2016-06-09 08:21:00</td>\n",
       "    </tr>\n",
       "    <tr>\n",
       "      <th>3</th>\n",
       "      <td>Friday</td>\n",
       "      <td>9</td>\n",
       "      <td>NaN</td>\n",
       "      <td>2016-06-10 07:30:00</td>\n",
       "      <td>2016-06-10 07:38:00</td>\n",
       "    </tr>\n",
       "    <tr>\n",
       "      <th>4</th>\n",
       "      <td>Friday</td>\n",
       "      <td>21</td>\n",
       "      <td>Took the bus after 10 minutes</td>\n",
       "      <td>2016-06-10 07:50:00</td>\n",
       "      <td>2016-06-10 08:00:00</td>\n",
       "    </tr>\n",
       "  </tbody>\n",
       "</table>\n",
       "</div>"
      ],
      "text/plain": [
       "     weekday  line_count                           notes    timestamp_arrive  \\\n",
       "0  Wednesday          19                             NaN 2016-06-08 07:50:00   \n",
       "1   Thursday           4                             NaN 2016-06-09 07:26:00   \n",
       "2   Thursday          19    Bus arrived as I got in line 2016-06-09 08:01:00   \n",
       "3     Friday           9                             NaN 2016-06-10 07:30:00   \n",
       "4     Friday          21  Took the bus after 10 minutes  2016-06-10 07:50:00   \n",
       "\n",
       "     timestamp_depart  \n",
       "0 2016-06-08 08:05:00  \n",
       "1 2016-06-09 07:29:00  \n",
       "2 2016-06-09 08:21:00  \n",
       "3 2016-06-10 07:38:00  \n",
       "4 2016-06-10 08:00:00  "
      ]
     },
     "execution_count": 7,
     "metadata": {},
     "output_type": "execute_result"
    }
   ],
   "source": [
    "data.head()"
   ]
  },
  {
   "cell_type": "markdown",
   "metadata": {},
   "source": [
    "one numeric columns, let's see what it looks like"
   ]
  },
  {
   "cell_type": "code",
   "execution_count": 8,
   "metadata": {
    "collapsed": false
   },
   "outputs": [
    {
     "data": {
      "text/html": [
       "<div>\n",
       "<table border=\"1\" class=\"dataframe\">\n",
       "  <thead>\n",
       "    <tr style=\"text-align: right;\">\n",
       "      <th></th>\n",
       "      <th>line_count</th>\n",
       "    </tr>\n",
       "  </thead>\n",
       "  <tbody>\n",
       "    <tr>\n",
       "      <th>count</th>\n",
       "      <td>255.00</td>\n",
       "    </tr>\n",
       "    <tr>\n",
       "      <th>mean</th>\n",
       "      <td>9.55</td>\n",
       "    </tr>\n",
       "    <tr>\n",
       "      <th>std</th>\n",
       "      <td>7.58</td>\n",
       "    </tr>\n",
       "    <tr>\n",
       "      <th>min</th>\n",
       "      <td>0.00</td>\n",
       "    </tr>\n",
       "    <tr>\n",
       "      <th>25%</th>\n",
       "      <td>3.00</td>\n",
       "    </tr>\n",
       "    <tr>\n",
       "      <th>50%</th>\n",
       "      <td>8.00</td>\n",
       "    </tr>\n",
       "    <tr>\n",
       "      <th>75%</th>\n",
       "      <td>15.00</td>\n",
       "    </tr>\n",
       "    <tr>\n",
       "      <th>max</th>\n",
       "      <td>31.00</td>\n",
       "    </tr>\n",
       "  </tbody>\n",
       "</table>\n",
       "</div>"
      ],
      "text/plain": [
       "       line_count\n",
       "count      255.00\n",
       "mean         9.55\n",
       "std          7.58\n",
       "min          0.00\n",
       "25%          3.00\n",
       "50%          8.00\n",
       "75%         15.00\n",
       "max         31.00"
      ]
     },
     "execution_count": 8,
     "metadata": {},
     "output_type": "execute_result"
    }
   ],
   "source": [
    "data.describe()"
   ]
  },
  {
   "cell_type": "markdown",
   "metadata": {},
   "source": [
    "plot the one numeric column"
   ]
  },
  {
   "cell_type": "code",
   "execution_count": 35,
   "metadata": {
    "collapsed": false
   },
   "outputs": [
    {
     "data": {
      "text/plain": [
       "<matplotlib.text.Text at 0x1199f3d30>"
      ]
     },
     "execution_count": 35,
     "metadata": {},
     "output_type": "execute_result"
    },
    {
     "data": {
      "image/png": "[encoded data removed]",
      "text/plain": [
       "<matplotlib.figure.Figure at 0x118944ef0>"
      ]
     },
     "metadata": {},
     "output_type": "display_data"
    }
   ],
   "source": [
    "data['line_count'].hist(bins=20)\n",
    "plt.title('Line Count Distribution')\n",
    "plt.xlabel('line_count')\n",
    "plt.ylabel('frequency')"
   ]
  },
  {
   "cell_type": "markdown",
   "metadata": {},
   "source": [
    "store data for future analysis"
   ]
  },
  {
   "cell_type": "code",
   "execution_count": 20,
   "metadata": {
    "collapsed": false
   },
   "outputs": [
    {
     "data": {
      "text/html": [
       "<div>\n",
       "<table border=\"1\" class=\"dataframe\">\n",
       "  <thead>\n",
       "    <tr style=\"text-align: right;\">\n",
       "      <th></th>\n",
       "      <th>weekday</th>\n",
       "      <th>line_count</th>\n",
       "      <th>notes</th>\n",
       "      <th>timestamp_arrive</th>\n",
       "      <th>timestamp_depart</th>\n",
       "    </tr>\n",
       "  </thead>\n",
       "  <tbody>\n",
       "    <tr>\n",
       "      <th>0</th>\n",
       "      <td>Wednesday</td>\n",
       "      <td>19</td>\n",
       "      <td>NaN</td>\n",
       "      <td>2016-06-08 07:50:00</td>\n",
       "      <td>2016-06-08 08:05:00</td>\n",
       "    </tr>\n",
       "    <tr>\n",
       "      <th>1</th>\n",
       "      <td>Thursday</td>\n",
       "      <td>4</td>\n",
       "      <td>NaN</td>\n",
       "      <td>2016-06-09 07:26:00</td>\n",
       "      <td>2016-06-09 07:29:00</td>\n",
       "    </tr>\n",
       "    <tr>\n",
       "      <th>2</th>\n",
       "      <td>Thursday</td>\n",
       "      <td>19</td>\n",
       "      <td>Bus arrived as I got in line</td>\n",
       "      <td>2016-06-09 08:01:00</td>\n",
       "      <td>2016-06-09 08:21:00</td>\n",
       "    </tr>\n",
       "    <tr>\n",
       "      <th>3</th>\n",
       "      <td>Friday</td>\n",
       "      <td>9</td>\n",
       "      <td>NaN</td>\n",
       "      <td>2016-06-10 07:30:00</td>\n",
       "      <td>2016-06-10 07:38:00</td>\n",
       "    </tr>\n",
       "    <tr>\n",
       "      <th>4</th>\n",
       "      <td>Friday</td>\n",
       "      <td>21</td>\n",
       "      <td>Took the bus after 10 minutes</td>\n",
       "      <td>2016-06-10 07:50:00</td>\n",
       "      <td>2016-06-10 08:00:00</td>\n",
       "    </tr>\n",
       "  </tbody>\n",
       "</table>\n",
       "</div>"
      ],
      "text/plain": [
       "     weekday  line_count                           notes    timestamp_arrive  \\\n",
       "0  Wednesday          19                             NaN 2016-06-08 07:50:00   \n",
       "1   Thursday           4                             NaN 2016-06-09 07:26:00   \n",
       "2   Thursday          19    Bus arrived as I got in line 2016-06-09 08:01:00   \n",
       "3     Friday           9                             NaN 2016-06-10 07:30:00   \n",
       "4     Friday          21  Took the bus after 10 minutes  2016-06-10 07:50:00   \n",
       "\n",
       "     timestamp_depart  \n",
       "0 2016-06-08 08:05:00  \n",
       "1 2016-06-09 07:29:00  \n",
       "2 2016-06-09 08:21:00  \n",
       "3 2016-06-10 07:38:00  \n",
       "4 2016-06-10 08:00:00  "
      ]
     },
     "execution_count": 20,
     "metadata": {},
     "output_type": "execute_result"
    }
   ],
   "source": [
    "data.to_csv('data/data.csv')"
   ]
  },
  {
   "cell_type": "markdown",
   "metadata": {},
   "source": [
    "next steps"
   ]
  }
 ],
 "metadata": {
  "kernelspec": {
   "display_name": "Python [Root]",
   "language": "python",
   "name": "Python [Root]"
  },
  "language_info": {
   "codemirror_mode": {
    "name": "ipython",
    "version": 3
   },
   "file_extension": ".py",
   "mimetype": "text/x-python",
   "name": "python",
   "nbconvert_exporter": "python",
   "pygments_lexer": "ipython3",
   "version": "3.5.2"
  }
 },
 "nbformat": 4,
 "nbformat_minor": 0
}
