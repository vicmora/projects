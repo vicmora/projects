{
 "cells": [
  {
   "cell_type": "code",
   "execution_count": 1,
   "metadata": {
    "collapsed": false
   },
   "outputs": [],
   "source": [
    "%matplotlib inline\n",
    "import datetime\n",
    "import calendar\n",
    "import pandas as pd\n",
    "import seaborn as sns\n",
    "import matplotlib.pyplot as plt\n",
    "from datetime import date\n",
    "from matplotlib.pylab import rcParams\n",
    "rcParams['figure.figsize'] = [15, 6]\n",
    "pd.set_option('display.float_format', lambda x: '%.2f' % x)"
   ]
  },
  {
   "cell_type": "code",
   "execution_count": 2,
   "metadata": {
    "collapsed": false
   },
   "outputs": [
    {
     "data": {
      "text/html": [
       "<div>\n",
       "<table border=\"1\" class=\"dataframe\">\n",
       "  <thead>\n",
       "    <tr style=\"text-align: right;\">\n",
       "      <th></th>\n",
       "      <th>Date</th>\n",
       "      <th>Day of Week</th>\n",
       "      <th># in Line</th>\n",
       "      <th>Line-up Time</th>\n",
       "      <th>Pick-up Time</th>\n",
       "      <th>Notes</th>\n",
       "    </tr>\n",
       "  </thead>\n",
       "  <tbody>\n",
       "    <tr>\n",
       "      <th>0</th>\n",
       "      <td>6/8/2016</td>\n",
       "      <td>Wednesday</td>\n",
       "      <td>19</td>\n",
       "      <td>7:50:00 AM</td>\n",
       "      <td>8:05:00 AM</td>\n",
       "      <td>NaN</td>\n",
       "    </tr>\n",
       "    <tr>\n",
       "      <th>1</th>\n",
       "      <td>6/9/2016</td>\n",
       "      <td>Thursday</td>\n",
       "      <td>4</td>\n",
       "      <td>7:26:00 AM</td>\n",
       "      <td>7:29:00 AM</td>\n",
       "      <td>NaN</td>\n",
       "    </tr>\n",
       "    <tr>\n",
       "      <th>2</th>\n",
       "      <td>6/9/2016</td>\n",
       "      <td>Thursday</td>\n",
       "      <td>19</td>\n",
       "      <td>8:01:00 AM</td>\n",
       "      <td>8:21:00 AM</td>\n",
       "      <td>Bus arrived as I got in line</td>\n",
       "    </tr>\n",
       "    <tr>\n",
       "      <th>3</th>\n",
       "      <td>6/10/2016</td>\n",
       "      <td>Friday</td>\n",
       "      <td>9</td>\n",
       "      <td>7:30:00 AM</td>\n",
       "      <td>7:38:00 AM</td>\n",
       "      <td>NaN</td>\n",
       "    </tr>\n",
       "    <tr>\n",
       "      <th>4</th>\n",
       "      <td>6/10/2016</td>\n",
       "      <td>Friday</td>\n",
       "      <td>21</td>\n",
       "      <td>7:50:00 AM</td>\n",
       "      <td>8:00:00 AM</td>\n",
       "      <td>Took the bus after 10 minutes</td>\n",
       "    </tr>\n",
       "  </tbody>\n",
       "</table>\n",
       "</div>"
      ],
      "text/plain": [
       "        Date Day of Week  # in Line Line-up Time Pick-up Time  \\\n",
       "0   6/8/2016   Wednesday         19   7:50:00 AM   8:05:00 AM   \n",
       "1   6/9/2016    Thursday          4   7:26:00 AM   7:29:00 AM   \n",
       "2   6/9/2016    Thursday         19   8:01:00 AM   8:21:00 AM   \n",
       "3  6/10/2016      Friday          9   7:30:00 AM   7:38:00 AM   \n",
       "4  6/10/2016      Friday         21   7:50:00 AM   8:00:00 AM   \n",
       "\n",
       "                            Notes  \n",
       "0                             NaN  \n",
       "1                             NaN  \n",
       "2    Bus arrived as I got in line  \n",
       "3                             NaN  \n",
       "4  Took the bus after 10 minutes   "
      ]
     },
     "execution_count": 2,
     "metadata": {},
     "output_type": "execute_result"
    }
   ],
   "source": [
    "data = pd.read_csv('data/raw.csv', encoding='utf-8')\n",
    "data.head()"
   ]
  },
  {
   "cell_type": "code",
   "execution_count": 3,
   "metadata": {
    "collapsed": false
   },
   "outputs": [],
   "source": [
    "data['timestamp_arrive'] = pd.to_datetime(data['Date']+' '+data['Line-up Time'])"
   ]
  },
  {
   "cell_type": "code",
   "execution_count": 4,
   "metadata": {
    "collapsed": true
   },
   "outputs": [],
   "source": [
    "data['timestamp_depart'] = pd.to_datetime(data['Date']+' '+data['Pick-up Time'])"
   ]
  },
  {
   "cell_type": "code",
   "execution_count": 6,
   "metadata": {
    "collapsed": false
   },
   "outputs": [],
   "source": [
    "data = data.rename(columns={'Day of Week':'weekday',\n",
    "                            '# in Line':'line_count',\n",
    "                            'Notes':'notes'})"
   ]
  },
  {
   "cell_type": "code",
   "execution_count": 7,
   "metadata": {
    "collapsed": false
   },
   "outputs": [],
   "source": [
    "data = data.drop(['Date', 'Line-up Time', 'Pick-up Time'], axis=1)"
   ]
  },
  {
   "cell_type": "code",
   "execution_count": 8,
   "metadata": {
    "collapsed": false
   },
   "outputs": [
    {
     "data": {
      "text/html": [
       "<div>\n",
       "<table border=\"1\" class=\"dataframe\">\n",
       "  <thead>\n",
       "    <tr style=\"text-align: right;\">\n",
       "      <th></th>\n",
       "      <th>weekday</th>\n",
       "      <th>line_count</th>\n",
       "      <th>notes</th>\n",
       "      <th>timestamp_arrive</th>\n",
       "      <th>timestamp_depart</th>\n",
       "    </tr>\n",
       "  </thead>\n",
       "  <tbody>\n",
       "    <tr>\n",
       "      <th>0</th>\n",
       "      <td>Wednesday</td>\n",
       "      <td>19</td>\n",
       "      <td>NaN</td>\n",
       "      <td>2016-06-08 07:50:00</td>\n",
       "      <td>2016-06-08 08:05:00</td>\n",
       "    </tr>\n",
       "    <tr>\n",
       "      <th>1</th>\n",
       "      <td>Thursday</td>\n",
       "      <td>4</td>\n",
       "      <td>NaN</td>\n",
       "      <td>2016-06-09 07:26:00</td>\n",
       "      <td>2016-06-09 07:29:00</td>\n",
       "    </tr>\n",
       "    <tr>\n",
       "      <th>2</th>\n",
       "      <td>Thursday</td>\n",
       "      <td>19</td>\n",
       "      <td>Bus arrived as I got in line</td>\n",
       "      <td>2016-06-09 08:01:00</td>\n",
       "      <td>2016-06-09 08:21:00</td>\n",
       "    </tr>\n",
       "    <tr>\n",
       "      <th>3</th>\n",
       "      <td>Friday</td>\n",
       "      <td>9</td>\n",
       "      <td>NaN</td>\n",
       "      <td>2016-06-10 07:30:00</td>\n",
       "      <td>2016-06-10 07:38:00</td>\n",
       "    </tr>\n",
       "    <tr>\n",
       "      <th>4</th>\n",
       "      <td>Friday</td>\n",
       "      <td>21</td>\n",
       "      <td>Took the bus after 10 minutes</td>\n",
       "      <td>2016-06-10 07:50:00</td>\n",
       "      <td>2016-06-10 08:00:00</td>\n",
       "    </tr>\n",
       "  </tbody>\n",
       "</table>\n",
       "</div>"
      ],
      "text/plain": [
       "     weekday  line_count                           notes    timestamp_arrive  \\\n",
       "0  Wednesday          19                             NaN 2016-06-08 07:50:00   \n",
       "1   Thursday           4                             NaN 2016-06-09 07:26:00   \n",
       "2   Thursday          19    Bus arrived as I got in line 2016-06-09 08:01:00   \n",
       "3     Friday           9                             NaN 2016-06-10 07:30:00   \n",
       "4     Friday          21  Took the bus after 10 minutes  2016-06-10 07:50:00   \n",
       "\n",
       "     timestamp_depart  \n",
       "0 2016-06-08 08:05:00  \n",
       "1 2016-06-09 07:29:00  \n",
       "2 2016-06-09 08:21:00  \n",
       "3 2016-06-10 07:38:00  \n",
       "4 2016-06-10 08:00:00  "
      ]
     },
     "execution_count": 8,
     "metadata": {},
     "output_type": "execute_result"
    }
   ],
   "source": [
    "data.head()"
   ]
  },
  {
   "cell_type": "code",
   "execution_count": null,
   "metadata": {
    "collapsed": false
   },
   "outputs": [],
   "source": [
    "df = data[['line_count', 'timestamp_arrive']]\n",
    "df['timestamp'] = df['timestamp_arrive'].apply(lambda x: x.replace(month=1, day=1, year=2017))\n",
    "df = df.set_index('timestamp')\n",
    "df = df.sort_index()\n",
    "df = df.drop('timestamp_arrive', axis=1)\n",
    "df.head()"
   ]
  },
  {
   "cell_type": "code",
   "execution_count": null,
   "metadata": {
    "collapsed": false,
    "scrolled": false
   },
   "outputs": [],
   "source": [
    "grp = df.groupby(pd.TimeGrouper(freq='10min'))\n",
    "aggdf = grp.agg(['mean', 'count'])\n",
    "aggdf.index = aggdf.index.time\n",
    "aggdf.plot(kind='bar', subplots=True)\n",
    "# plt.savefig('output.png')"
   ]
  },
  {
   "cell_type": "code",
   "execution_count": null,
   "metadata": {
    "collapsed": false
   },
   "outputs": [],
   "source": [
    "aggdf.head()"
   ]
  },
  {
   "cell_type": "code",
   "execution_count": null,
   "metadata": {
    "collapsed": false
   },
   "outputs": [],
   "source": [
    "def plt_wkday(weekday):\n",
    "    df = data[data['weekday'] == weekday][['line_count', 'timestamp_arrive']]\n",
    "    df['timestamp'] = df['timestamp_arrive'].apply(lambda x: x.replace(month=1, day=1, year=2017))\n",
    "    df = df.set_index('timestamp')\n",
    "    df = df.sort_index()\n",
    "    df = df.drop('timestamp_arrive', axis=1)\n",
    "    grp = df.groupby(pd.TimeGrouper(freq='10min'))\n",
    "    aggdf = grp.mean()\n",
    "    aggdf.index = aggdf.index.time\n",
    "#     aggdf.plot()\n",
    "#     plt.savefig('weekday_chart.png')\n",
    "    print(weekday+' Average')\n",
    "    print(aggdf)"
   ]
  },
  {
   "cell_type": "code",
   "execution_count": null,
   "metadata": {
    "collapsed": false
   },
   "outputs": [],
   "source": [
    "weekday = calendar.day_name[date.today().weekday()]\n",
    "\n",
    "if weekday == 'Saturday' or weekday == 'Sunday':\n",
    "    weekday = 'Monday'\n",
    "\n",
    "print(weekday)"
   ]
  },
  {
   "cell_type": "code",
   "execution_count": null,
   "metadata": {
    "collapsed": false
   },
   "outputs": [],
   "source": [
    "plt_wkday(weekday)"
   ]
  },
  {
   "cell_type": "code",
   "execution_count": null,
   "metadata": {
    "collapsed": true
   },
   "outputs": [],
   "source": []
  }
 ],
 "metadata": {
  "anaconda-cloud": {},
  "kernelspec": {
   "display_name": "Python [Root]",
   "language": "python",
   "name": "Python [Root]"
  },
  "language_info": {
   "codemirror_mode": {
    "name": "ipython",
    "version": 3
   },
   "file_extension": ".py",
   "mimetype": "text/x-python",
   "name": "python",
   "nbconvert_exporter": "python",
   "pygments_lexer": "ipython3",
   "version": "3.5.2"
  }
 },
 "nbformat": 4,
 "nbformat_minor": 0
}
